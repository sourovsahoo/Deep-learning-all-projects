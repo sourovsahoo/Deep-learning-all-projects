{
 "cells": [
  {
   "cell_type": "markdown",
   "metadata": {},
   "source": [
    "# Traffic Signs Recognition / Classification(43types(0-42))"
   ]
  },
  {
   "cell_type": "raw",
   "metadata": {},
   "source": [
    "There are several different types of traffic signs like:---\n",
    "    speed limits,\n",
    "    no entry, \n",
    "    traffic signals,\n",
    "    turn left or right,\n",
    "    children crossing,\n",
    "    no passing of heavy vehicles, etc. \n",
    "\n",
    "Traffic signs classification is the process of identifying which class a traffic sign belongs to.\n",
    "\n"
   ]
  },
  {
   "cell_type": "markdown",
   "metadata": {},
   "source": [
    "# Aim of the project"
   ]
  },
  {
   "cell_type": "code",
   "execution_count": null,
   "metadata": {},
   "outputs": [],
   "source": [
    "In this project, you have to build a Deep Neural Network model that can classify traffic signs present in the image,\n",
    "                                                                                                     into different categories.\n",
    "    \n",
    "With this model, \n",
    "We should be able to read and understand traffic signs which are a very important task for all autonomous vehicles."
   ]
  },
  {
   "cell_type": "markdown",
   "metadata": {},
   "source": [
    "# About the Dataset:--"
   ]
  },
  {
   "cell_type": "raw",
   "metadata": {},
   "source": [
    "The dataset contains more than 50,000 images of different traffic signs. \n",
    "It is further classified into 43 different classes. \n",
    "The dataset is quite varying, some of the classes have many images while some classes have few images. (imbalaced dataset)\n",
    " \n",
    "The dataset has a train folder which contains images inside each class and \n",
    "a test folder which you will use for testing your model.\n",
    "\n",
    "The ‘train’ folder contains 43 folders each representing a different class. The range of the folder is from 0 to 42. \n",
    "You have to explore the dataset and then build a CNN model. \n",
    "You can use train data for training the model and test the model with the test dataset. \n"
   ]
  },
  {
   "cell_type": "markdown",
   "metadata": {},
   "source": [
    "# Project work flow"
   ]
  },
  {
   "cell_type": "raw",
   "metadata": {},
   "source": [
    "1) Import the required libraries.\n",
    "2) Import the dataset by zip method extractall( )\n",
    "Function.\n",
    "3) Read the train and test dataset.\n",
    "4) Images Preprocess technique\n",
    "a) Making two empty list to store our dependent and independent features data\n",
    "    #data = []  #dependent features(x) resized image array\n",
    "   #labels = [] #Independent features(y) -category of the image which it belongs to.\n",
    "b) Filtering and resizing(30,30) and converting to array.\n",
    "Above is the data as per our requirement for feeding into the model for better results.\n",
    "c) Then appending the data and labels into the empty list we created above.\n",
    "d) Finally changing the lists to arrays which is the requirement of model feeding data\n",
    "5) Train test split with test_size=20%\n",
    "6) One-hot-encoding--labels(y—target variable).\n",
    "7) DL-NN model building.\n",
    "8) Model compilation.\n",
    "9) Fitting the X_train ,  y_train  data for 20 epochs\n",
    "10) Testing on test data\n",
    "        # Same preprocess techniques used as in train data above\n",
    "11) Finally Predicting on the images and getting the predicted labels.\n",
    "12) Checking the Accuracy of the model output for test data.\n",
    "13) Saving the final model ‘ output_trafficsignals.h5’\n",
    "14) Loading the .h5 model\n",
    "15) Visualization:----------\n",
    "            # Making a dictionary of all 43 Classes of trafic signs.\n",
    "         #Making a function to call the test data (X_test) and predict(Y_pred)\n",
    "#Then just for visualization of different image,just change the image number.\n",
    "16) Conclusion \n"
   ]
  },
  {
   "cell_type": "markdown",
   "metadata": {},
   "source": [
    "# Import required libraries"
   ]
  },
  {
   "cell_type": "code",
   "execution_count": 144,
   "metadata": {},
   "outputs": [],
   "source": [
    "import numpy as np \n",
    "import pandas as pd \n",
    "import matplotlib.pyplot as plt\n",
    "import cv2\n",
    "import tensorflow as tf\n",
    "from PIL import Image\n",
    "\n",
    "from sklearn.model_selection import train_test_split\n",
    "\n",
    "import tensorflow\n",
    "import tensorflow.keras\n",
    "from tensorflow.keras.utils import to_categorical\n",
    "from tensorflow.keras.models import Sequential, load_model\n",
    "from tensorflow.keras.layers import Conv2D, MaxPool2D, Dense, Flatten, Dropout"
   ]
  },
  {
   "cell_type": "markdown",
   "metadata": {},
   "source": [
    "# Directly Import the dataset in zip type file"
   ]
  },
  {
   "cell_type": "code",
   "execution_count": 145,
   "metadata": {},
   "outputs": [],
   "source": [
    "import zipfile\n",
    "with zipfile.ZipFile(\"Dataset.zip\",\"r\") as zip_ref:\n",
    "    zip_ref.extractall()"
   ]
  },
  {
   "cell_type": "markdown",
   "metadata": {},
   "source": [
    "# Read the required dataset"
   ]
  },
  {
   "cell_type": "code",
   "execution_count": 146,
   "metadata": {},
   "outputs": [],
   "source": [
    "import pandas as pd\n",
    "train = pd.read_csv('Train.csv')\n",
    "test = pd.read_csv('Test.csv')\n"
   ]
  },
  {
   "cell_type": "markdown",
   "metadata": {},
   "source": [
    "##  data(X-independent features) , labels(y-dependent feature) storing in the list form"
   ]
  },
  {
   "cell_type": "code",
   "execution_count": 149,
   "metadata": {},
   "outputs": [],
   "source": [
    "data = []  #dependent features(x)\n",
    "\n",
    "labels = [] #Independent features(y)"
   ]
  },
  {
   "cell_type": "code",
   "execution_count": 147,
   "metadata": {},
   "outputs": [],
   "source": [
    "# We have 43 Classes\n",
    "import os\n",
    "classes = 43\n",
    "cur_path = os.getcwd()"
   ]
  },
  {
   "cell_type": "code",
   "execution_count": 148,
   "metadata": {},
   "outputs": [
    {
     "data": {
      "text/plain": [
       "'C:\\\\Users\\\\USER\\\\140-Fliprobo\\\\DL-NN-Traffic signal identification project'"
      ]
     },
     "execution_count": 148,
     "metadata": {},
     "output_type": "execute_result"
    }
   ],
   "source": [
    "cur_path"
   ]
  },
  {
   "cell_type": "markdown",
   "metadata": {},
   "source": [
    "# Images Preprocess technique"
   ]
  },
  {
   "cell_type": "raw",
   "metadata": {},
   "source": [
    "data = []  #dependent features(x)-resized image array\n",
    "\n",
    "labels = [] #Independent features(y)-category of the image which it belongs to(i)"
   ]
  },
  {
   "cell_type": "markdown",
   "metadata": {},
   "source": [
    "# Filtering code"
   ]
  },
  {
   "cell_type": "code",
   "execution_count": 150,
   "metadata": {},
   "outputs": [],
   "source": [
    "for i in range(classes): # We have 43 Classes #This loop will iterate 43 times(0-42)\n",
    "    \n",
    "                              #'file name'   \n",
    "                                        #iteration from 0 t0 42 folders inside train folder\n",
    "    path = os.path.join(cur_path,'train',str(i))\n",
    "                      #'C:\\\\Users\\\\USER\\\\140-Fliprobo\\\\DL-NN-Traffic signal identification project'\n",
    "    \n",
    "    images = os.listdir(path)\n",
    "    \n",
    "    \n",
    "    for a in images:\n",
    "        try:             #open the image\n",
    "            image = Image.open(path + '\\\\'+ a)\n",
    "                        #resizing all images to 30 X 30 which is suitable for DL model feeding.\n",
    "            image = image.resize((30,30))\n",
    "                     #coverting to array\n",
    "            image = np.array(image)\n",
    "                 #appending the image #data=[] -->empty list\n",
    "            data.append(image)\n",
    "           #labels=[] -->empty list #appending the image\n",
    "            labels.append(i)\n",
    "                        #1st iteration(0th folder inside train folder) is completed till here.\n",
    "                #iteration back to next folder(1)(then 2,3...42)\n",
    "        except Exception as e:\n",
    "            print(e)"
   ]
  },
  {
   "cell_type": "markdown",
   "metadata": {},
   "source": [
    "## Converting lists into numpy arrays"
   ]
  },
  {
   "cell_type": "code",
   "execution_count": 151,
   "metadata": {},
   "outputs": [],
   "source": [
    "data = np.array(data)\n",
    "labels = np.array(labels)"
   ]
  },
  {
   "cell_type": "code",
   "execution_count": 152,
   "metadata": {},
   "outputs": [
    {
     "data": {
      "text/plain": [
       "array([[[[ 75,  78,  80],\n",
       "         [ 74,  76,  78],\n",
       "         [ 85,  86,  84],\n",
       "         ...,\n",
       "         [ 68,  75,  74],\n",
       "         [ 65,  69,  68],\n",
       "         [ 66,  67,  66]],\n",
       "\n",
       "        [[ 83,  84,  86],\n",
       "         [ 80,  80,  82],\n",
       "         [ 88,  88,  83],\n",
       "         ...,\n",
       "         [ 73,  77,  78],\n",
       "         [ 76,  78,  75],\n",
       "         [ 80,  80,  78]],\n",
       "\n",
       "        [[ 78,  78,  80],\n",
       "         [ 86,  85,  86],\n",
       "         [ 90,  89,  90],\n",
       "         ...,\n",
       "         [ 71,  74,  71],\n",
       "         [ 73,  74,  69],\n",
       "         [ 78,  78,  74]],\n",
       "\n",
       "        ...,\n",
       "\n",
       "        [[133, 134, 139],\n",
       "         [123, 127, 132],\n",
       "         [112, 121, 125],\n",
       "         ...,\n",
       "         [ 94,  95,  89],\n",
       "         [ 97,  98,  91],\n",
       "         [ 99, 103,  99]],\n",
       "\n",
       "        [[ 91,  95,  99],\n",
       "         [ 91,  98, 103],\n",
       "         [ 75,  86,  90],\n",
       "         ...,\n",
       "         [104, 102,  96],\n",
       "         [110, 113, 104],\n",
       "         [ 96, 104,  98]],\n",
       "\n",
       "        [[ 85,  84,  87],\n",
       "         [ 95, 101, 107],\n",
       "         [ 63,  76,  81],\n",
       "         ...,\n",
       "         [103, 103,  95],\n",
       "         [ 99, 102,  90],\n",
       "         [ 90,  97,  89]]],\n",
       "\n",
       "\n",
       "       [[[ 69,  73,  73],\n",
       "         [ 76,  79,  79],\n",
       "         [ 75,  77,  77],\n",
       "         ...,\n",
       "         [ 76,  81,  80],\n",
       "         [ 71,  77,  77],\n",
       "         [ 66,  68,  70]],\n",
       "\n",
       "        [[ 65,  69,  69],\n",
       "         [ 74,  76,  76],\n",
       "         [ 84,  84,  83],\n",
       "         ...,\n",
       "         [ 90,  83,  89],\n",
       "         [ 74,  79,  84],\n",
       "         [ 67,  69,  73]],\n",
       "\n",
       "        [[ 63,  68,  68],\n",
       "         [ 71,  72,  72],\n",
       "         [ 81,  79,  77],\n",
       "         ...,\n",
       "         [105,  86,  91],\n",
       "         [ 71,  75,  76],\n",
       "         [ 69,  71,  69]],\n",
       "\n",
       "        ...,\n",
       "\n",
       "        [[164, 139, 142],\n",
       "         [157, 139, 144],\n",
       "         [151, 139, 143],\n",
       "         ...,\n",
       "         [ 76,  77,  79],\n",
       "         [ 77,  80,  76],\n",
       "         [ 90,  93,  82]],\n",
       "\n",
       "        [[102, 103, 104],\n",
       "         [103, 102, 104],\n",
       "         [101,  97, 103],\n",
       "         ...,\n",
       "         [ 80,  81,  82],\n",
       "         [ 92,  95,  91],\n",
       "         [106, 110, 101]],\n",
       "\n",
       "        [[ 72,  74,  74],\n",
       "         [ 82,  83,  82],\n",
       "         [ 92,  92,  99],\n",
       "         ...,\n",
       "         [ 74,  74,  75],\n",
       "         [103, 103, 100],\n",
       "         [101, 104,  96]]],\n",
       "\n",
       "\n",
       "       [[[ 72,  72,  72],\n",
       "         [ 79,  79,  79],\n",
       "         [ 78,  78,  73],\n",
       "         ...,\n",
       "         [ 78,  81,  71],\n",
       "         [ 72,  79,  73],\n",
       "         [ 63,  66,  64]],\n",
       "\n",
       "        [[ 66,  68,  68],\n",
       "         [ 77,  75,  74],\n",
       "         [ 94,  87,  86],\n",
       "         ...,\n",
       "         [108,  93,  87],\n",
       "         [ 77,  80,  77],\n",
       "         [ 74,  75,  74]],\n",
       "\n",
       "        [[ 65,  69,  69],\n",
       "         [ 76,  71,  71],\n",
       "         [112,  98, 101],\n",
       "         ...,\n",
       "         [120,  87,  91],\n",
       "         [ 74,  74,  74],\n",
       "         [ 69,  69,  67]],\n",
       "\n",
       "        ...,\n",
       "\n",
       "        [[146, 133, 117],\n",
       "         [143, 130, 114],\n",
       "         [140, 127, 119],\n",
       "         ...,\n",
       "         [ 75,  76,  75],\n",
       "         [ 72,  75,  75],\n",
       "         [ 73,  76,  77]],\n",
       "\n",
       "        [[114, 121, 113],\n",
       "         [115, 116, 107],\n",
       "         [115, 111, 107],\n",
       "         ...,\n",
       "         [ 71,  73,  73],\n",
       "         [ 79,  81,  80],\n",
       "         [ 92,  94,  92]],\n",
       "\n",
       "        [[ 73,  78,  77],\n",
       "         [ 84,  87,  84],\n",
       "         [ 95,  96,  95],\n",
       "         ...,\n",
       "         [ 70,  71,  71],\n",
       "         [ 81,  82,  79],\n",
       "         [ 95,  97,  91]]],\n",
       "\n",
       "\n",
       "       ...,\n",
       "\n",
       "\n",
       "       [[[ 11,  11,  13],\n",
       "         [ 12,  12,  14],\n",
       "         [ 13,  11,  13],\n",
       "         ...,\n",
       "         [ 12,  11,  13],\n",
       "         [ 12,  11,  13],\n",
       "         [ 12,  10,  13]],\n",
       "\n",
       "        [[ 11,  11,  14],\n",
       "         [ 13,  11,  14],\n",
       "         [ 12,  11,  13],\n",
       "         ...,\n",
       "         [ 12,  11,  13],\n",
       "         [ 12,  12,  13],\n",
       "         [ 12,  11,  12]],\n",
       "\n",
       "        [[  9,  10,  13],\n",
       "         [ 12,  12,  16],\n",
       "         [ 14,  15,  17],\n",
       "         ...,\n",
       "         [ 11,  11,  13],\n",
       "         [ 11,  11,  13],\n",
       "         [ 11,  11,  11]],\n",
       "\n",
       "        ...,\n",
       "\n",
       "        [[ 10,  10,  12],\n",
       "         [ 10,   9,  11],\n",
       "         [  9,   9,  11],\n",
       "         ...,\n",
       "         [ 10,   9,  12],\n",
       "         [ 11,  10,  12],\n",
       "         [ 11,  11,  12]],\n",
       "\n",
       "        [[ 10,   9,  12],\n",
       "         [ 10,   9,  11],\n",
       "         [ 10,   9,  11],\n",
       "         ...,\n",
       "         [ 11,   9,  12],\n",
       "         [ 10,  11,  13],\n",
       "         [ 12,  11,  12]],\n",
       "\n",
       "        [[ 10,   9,  12],\n",
       "         [ 11,  10,  12],\n",
       "         [ 10,   9,  11],\n",
       "         ...,\n",
       "         [ 11,  10,  11],\n",
       "         [ 11,  11,  13],\n",
       "         [ 12,  11,  13]]],\n",
       "\n",
       "\n",
       "       [[[ 13,  13,  15],\n",
       "         [ 14,  13,  16],\n",
       "         [ 13,  11,  13],\n",
       "         ...,\n",
       "         [ 12,  11,  12],\n",
       "         [ 11,  10,  11],\n",
       "         [ 11,  13,  19]],\n",
       "\n",
       "        [[ 14,  12,  14],\n",
       "         [ 13,  12,  14],\n",
       "         [ 14,  12,  14],\n",
       "         ...,\n",
       "         [ 11,  11,  13],\n",
       "         [ 11,  10,  12],\n",
       "         [ 10,  11,  14]],\n",
       "\n",
       "        [[ 12,  11,  12],\n",
       "         [ 13,  12,  13],\n",
       "         [ 13,  12,  14],\n",
       "         ...,\n",
       "         [ 11,  10,  12],\n",
       "         [ 11,  10,  12],\n",
       "         [ 10,   9,  11]],\n",
       "\n",
       "        ...,\n",
       "\n",
       "        [[ 12,  12,  13],\n",
       "         [ 11,  10,  11],\n",
       "         [  9,   9,  11],\n",
       "         ...,\n",
       "         [ 13,  12,  13],\n",
       "         [ 11,   9,  11],\n",
       "         [  9,   9,  10]],\n",
       "\n",
       "        [[ 11,  10,  12],\n",
       "         [ 12,  10,  12],\n",
       "         [ 10,   9,  11],\n",
       "         ...,\n",
       "         [ 14,  13,  15],\n",
       "         [ 11,  10,  10],\n",
       "         [ 10,   9,   9]],\n",
       "\n",
       "        [[ 10,   9,  11],\n",
       "         [ 10,   9,  11],\n",
       "         [ 10,  10,  12],\n",
       "         ...,\n",
       "         [ 14,  12,  14],\n",
       "         [ 11,  10,  11],\n",
       "         [ 10,   9,  10]]],\n",
       "\n",
       "\n",
       "       [[[ 11,  10,  12],\n",
       "         [ 11,  10,  11],\n",
       "         [ 10,  10,  11],\n",
       "         ...,\n",
       "         [ 18,  20,  22],\n",
       "         [ 25,  24,  23],\n",
       "         [ 24,  17,  17]],\n",
       "\n",
       "        [[ 12,  11,  12],\n",
       "         [ 12,  11,  12],\n",
       "         [ 12,  10,  12],\n",
       "         ...,\n",
       "         [ 45,  60,  77],\n",
       "         [ 80,  77,  83],\n",
       "         [ 51,  30,  27]],\n",
       "\n",
       "        [[ 12,  12,  13],\n",
       "         [ 12,  12,  14],\n",
       "         [ 12,  11,  12],\n",
       "         ...,\n",
       "         [ 69,  87, 109],\n",
       "         [ 89,  84, 103],\n",
       "         [ 51,  38,  44]],\n",
       "\n",
       "        ...,\n",
       "\n",
       "        [[ 12,  11,  14],\n",
       "         [ 13,  11,  12],\n",
       "         [ 10,   9,  10],\n",
       "         ...,\n",
       "         [ 10,   9,  11],\n",
       "         [ 10,   9,  11],\n",
       "         [  9,   9,  11]],\n",
       "\n",
       "        [[ 11,  11,  13],\n",
       "         [ 11,  10,  12],\n",
       "         [  9,   9,  10],\n",
       "         ...,\n",
       "         [ 10,   9,  11],\n",
       "         [  9,   9,  11],\n",
       "         [ 10,   9,  11]],\n",
       "\n",
       "        [[ 11,  11,  12],\n",
       "         [ 10,  10,  11],\n",
       "         [  9,   9,  10],\n",
       "         ...,\n",
       "         [ 10,   9,  12],\n",
       "         [ 10,  10,  11],\n",
       "         [ 10,   9,  11]]]], dtype=uint8)"
      ]
     },
     "execution_count": 152,
     "metadata": {},
     "output_type": "execute_result"
    }
   ],
   "source": [
    "data"
   ]
  },
  {
   "cell_type": "code",
   "execution_count": 153,
   "metadata": {},
   "outputs": [
    {
     "data": {
      "text/plain": [
       "((39209, 30, 30, 3), (39209,))"
      ]
     },
     "execution_count": 153,
     "metadata": {},
     "output_type": "execute_result"
    }
   ],
   "source": [
    "data.shape,labels.shape"
   ]
  },
  {
   "cell_type": "code",
   "execution_count": 154,
   "metadata": {},
   "outputs": [
    {
     "data": {
      "text/plain": [
       "array([ 0,  0,  0, ..., 42, 42, 42])"
      ]
     },
     "execution_count": 154,
     "metadata": {},
     "output_type": "execute_result"
    }
   ],
   "source": [
    "labels"
   ]
  },
  {
   "cell_type": "code",
   "execution_count": 155,
   "metadata": {},
   "outputs": [
    {
     "name": "stdout",
     "output_type": "stream",
     "text": [
      "(39209, 30, 30, 3) (39209,)\n"
     ]
    }
   ],
   "source": [
    "#Shape must be same\n",
    "print(data.shape, labels.shape)"
   ]
  },
  {
   "cell_type": "markdown",
   "metadata": {},
   "source": [
    "# Splitting the training data,keeping 20% for testing ,training accuracy check.\n",
    "test_size=0.2"
   ]
  },
  {
   "cell_type": "code",
   "execution_count": 156,
   "metadata": {},
   "outputs": [],
   "source": [
    "X_train, X_test, y_train, y_test = train_test_split(data, labels, test_size=0.2, random_state=0)"
   ]
  },
  {
   "cell_type": "code",
   "execution_count": 157,
   "metadata": {},
   "outputs": [
    {
     "name": "stdout",
     "output_type": "stream",
     "text": [
      "(31367, 30, 30, 3) (7842, 30, 30, 3) (31367,) (7842,)\n"
     ]
    }
   ],
   "source": [
    "#Shape must be same\n",
    "print(X_train.shape, X_test.shape, y_train.shape, y_test.shape)"
   ]
  },
  {
   "cell_type": "code",
   "execution_count": 158,
   "metadata": {},
   "outputs": [
    {
     "data": {
      "text/plain": [
       "array([[[[ 23,  20,  22],\n",
       "         [ 24,  21,  23],\n",
       "         [ 24,  22,  23],\n",
       "         ...,\n",
       "         [ 21,  19,  21],\n",
       "         [ 20,  18,  20],\n",
       "         [ 21,  19,  20]],\n",
       "\n",
       "        [[ 21,  19,  21],\n",
       "         [ 22,  20,  20],\n",
       "         [ 22,  21,  21],\n",
       "         ...,\n",
       "         [ 21,  18,  20],\n",
       "         [ 21,  18,  21],\n",
       "         [ 21,  19,  20]],\n",
       "\n",
       "        [[ 21,  19,  20],\n",
       "         [ 21,  20,  20],\n",
       "         [ 22,  20,  21],\n",
       "         ...,\n",
       "         [ 20,  17,  19],\n",
       "         [ 20,  18,  19],\n",
       "         [ 21,  19,  20]],\n",
       "\n",
       "        ...,\n",
       "\n",
       "        [[ 21,  18,  20],\n",
       "         [ 20,  19,  21],\n",
       "         [ 21,  19,  20],\n",
       "         ...,\n",
       "         [ 19,  17,  18],\n",
       "         [ 18,  17,  18],\n",
       "         [ 19,  18,  20]],\n",
       "\n",
       "        [[ 21,  19,  21],\n",
       "         [ 22,  20,  22],\n",
       "         [ 23,  20,  21],\n",
       "         ...,\n",
       "         [ 19,  16,  18],\n",
       "         [ 18,  17,  19],\n",
       "         [ 19,  17,  19]],\n",
       "\n",
       "        [[ 19,  17,  20],\n",
       "         [ 20,  18,  20],\n",
       "         [ 21,  19,  21],\n",
       "         ...,\n",
       "         [ 17,  15,  18],\n",
       "         [ 17,  15,  17],\n",
       "         [ 18,  15,  17]]],\n",
       "\n",
       "\n",
       "       [[[ 74,  58,  53],\n",
       "         [ 68,  55,  48],\n",
       "         [ 68,  56,  48],\n",
       "         ...,\n",
       "         [ 63,  55,  47],\n",
       "         [ 59,  53,  46],\n",
       "         [ 66,  61,  56]],\n",
       "\n",
       "        [[ 84,  68,  65],\n",
       "         [ 71,  60,  52],\n",
       "         [ 73,  65,  57],\n",
       "         ...,\n",
       "         [ 64,  56,  46],\n",
       "         [ 67,  59,  53],\n",
       "         [ 72,  63,  59]],\n",
       "\n",
       "        [[ 76,  64,  61],\n",
       "         [ 72,  63,  58],\n",
       "         [ 74,  68,  56],\n",
       "         ...,\n",
       "         [ 66,  59,  51],\n",
       "         [ 70,  62,  55],\n",
       "         [ 71,  61,  54]],\n",
       "\n",
       "        ...,\n",
       "\n",
       "        [[ 75,  64,  57],\n",
       "         [ 64,  54,  47],\n",
       "         [ 68,  61,  51],\n",
       "         ...,\n",
       "         [ 62,  58,  54],\n",
       "         [ 61,  56,  50],\n",
       "         [ 57,  51,  42]],\n",
       "\n",
       "        [[ 77,  62,  52],\n",
       "         [ 64,  53,  44],\n",
       "         [ 63,  56,  54],\n",
       "         ...,\n",
       "         [ 60,  55,  50],\n",
       "         [ 60,  54,  48],\n",
       "         [ 56,  48,  41]],\n",
       "\n",
       "        [[ 85,  65,  55],\n",
       "         [ 64,  52,  43],\n",
       "         [ 64,  57,  54],\n",
       "         ...,\n",
       "         [ 59,  50,  44],\n",
       "         [ 59,  51,  43],\n",
       "         [ 57,  48,  43]]],\n",
       "\n",
       "\n",
       "       [[[ 83,  84,  83],\n",
       "         [ 75,  80,  76],\n",
       "         [ 52,  57,  46],\n",
       "         ...,\n",
       "         [159, 150, 113],\n",
       "         [115, 108, 114],\n",
       "         [ 81,  76,  70]],\n",
       "\n",
       "        [[ 90,  93, 100],\n",
       "         [ 63,  60,  53],\n",
       "         [ 60,  54,  51],\n",
       "         ...,\n",
       "         [174, 163, 154],\n",
       "         [112,  99,  98],\n",
       "         [ 83,  72,  59]],\n",
       "\n",
       "        [[ 59,  58,  52],\n",
       "         [ 69,  68,  64],\n",
       "         [ 93,  93, 121],\n",
       "         ...,\n",
       "         [150, 140, 125],\n",
       "         [ 78,  74,  64],\n",
       "         [100,  84,  70]],\n",
       "\n",
       "        ...,\n",
       "\n",
       "        [[130, 114, 107],\n",
       "         [118, 103,  98],\n",
       "         [116, 106, 104],\n",
       "         ...,\n",
       "         [ 71,  65,  58],\n",
       "         [ 59,  57,  48],\n",
       "         [ 51,  52,  46]],\n",
       "\n",
       "        [[126, 122, 112],\n",
       "         [123, 108, 104],\n",
       "         [113, 100, 102],\n",
       "         ...,\n",
       "         [ 76,  68,  60],\n",
       "         [ 66,  61,  57],\n",
       "         [ 54,  55,  49]],\n",
       "\n",
       "        [[101,  90,  81],\n",
       "         [107,  93,  84],\n",
       "         [102,  86,  81],\n",
       "         ...,\n",
       "         [ 70,  71,  56],\n",
       "         [ 61,  62,  55],\n",
       "         [ 56,  55,  51]]],\n",
       "\n",
       "\n",
       "       ...,\n",
       "\n",
       "\n",
       "       [[[ 60,  50,  32],\n",
       "         [ 41,  51,  48],\n",
       "         [ 85, 111, 105],\n",
       "         ...,\n",
       "         [ 87, 103,  56],\n",
       "         [127, 105,  44],\n",
       "         [ 39,  46,  22]],\n",
       "\n",
       "        [[113, 108,  70],\n",
       "         [ 55,  64,  53],\n",
       "         [ 68,  89,  77],\n",
       "         ...,\n",
       "         [134, 149,  99],\n",
       "         [171, 137,  81],\n",
       "         [ 84,  72,  48]],\n",
       "\n",
       "        [[111, 117,  99],\n",
       "         [ 62,  77,  62],\n",
       "         [ 48,  61,  46],\n",
       "         ...,\n",
       "         [116, 150, 135],\n",
       "         [181, 175, 139],\n",
       "         [108, 112,  97]],\n",
       "\n",
       "        ...,\n",
       "\n",
       "        [[ 31,  40,  38],\n",
       "         [ 48,  56,  51],\n",
       "         [ 45,  53,  45],\n",
       "         ...,\n",
       "         [167, 179, 132],\n",
       "         [202, 198, 141],\n",
       "         [165, 167,  97]],\n",
       "\n",
       "        [[ 37,  44,  43],\n",
       "         [ 45,  55,  48],\n",
       "         [ 42,  45,  43],\n",
       "         ...,\n",
       "         [148, 154, 100],\n",
       "         [158, 152, 136],\n",
       "         [113, 141,  98]],\n",
       "\n",
       "        [[ 37,  41,  39],\n",
       "         [ 49,  55,  53],\n",
       "         [ 44,  45,  43],\n",
       "         ...,\n",
       "         [183, 176, 127],\n",
       "         [143, 139, 117],\n",
       "         [ 85, 100,  67]]],\n",
       "\n",
       "\n",
       "       [[[ 21,  21,  30],\n",
       "         [ 18,  24,  32],\n",
       "         [ 21,  27,  36],\n",
       "         ...,\n",
       "         [ 11,  11,  16],\n",
       "         [ 12,  13,  16],\n",
       "         [ 13,  12,  15]],\n",
       "\n",
       "        [[ 25,  29,  41],\n",
       "         [ 26,  32,  44],\n",
       "         [ 28,  36,  47],\n",
       "         ...,\n",
       "         [ 11,  11,  16],\n",
       "         [ 12,  12,  15],\n",
       "         [ 12,  12,  15]],\n",
       "\n",
       "        [[ 29,  36,  46],\n",
       "         [ 31,  37,  48],\n",
       "         [ 33,  39,  51],\n",
       "         ...,\n",
       "         [ 11,  11,  15],\n",
       "         [ 12,  12,  17],\n",
       "         [ 12,  12,  15]],\n",
       "\n",
       "        ...,\n",
       "\n",
       "        [[ 30,  33,  37],\n",
       "         [ 25,  25,  29],\n",
       "         [ 26,  26,  31],\n",
       "         ...,\n",
       "         [ 31,  32,  38],\n",
       "         [ 29,  30,  37],\n",
       "         [ 27,  31,  38]],\n",
       "\n",
       "        [[ 22,  23,  25],\n",
       "         [ 21,  20,  23],\n",
       "         [ 23,  22,  23],\n",
       "         ...,\n",
       "         [ 31,  34,  42],\n",
       "         [ 29,  31,  36],\n",
       "         [ 27,  31,  39]],\n",
       "\n",
       "        [[ 17,  15,  18],\n",
       "         [ 15,  13,  17],\n",
       "         [ 18,  15,  18],\n",
       "         ...,\n",
       "         [ 31,  35,  43],\n",
       "         [ 29,  31,  34],\n",
       "         [ 26,  28,  34]]],\n",
       "\n",
       "\n",
       "       [[[ 20,  21,  27],\n",
       "         [ 21,  22,  28],\n",
       "         [ 20,  21,  26],\n",
       "         ...,\n",
       "         [ 19,  64,  72],\n",
       "         [  5,  24,  30],\n",
       "         [ 46,  45,  47]],\n",
       "\n",
       "        [[ 20,  21,  26],\n",
       "         [ 20,  21,  26],\n",
       "         [ 20,  22,  27],\n",
       "         ...,\n",
       "         [ 85,  74,  93],\n",
       "         [ 34,  28,  32],\n",
       "         [ 50,  50,  51]],\n",
       "\n",
       "        [[ 21,  22,  28],\n",
       "         [ 21,  23,  29],\n",
       "         [ 21,  24,  21],\n",
       "         ...,\n",
       "         [130,  48,  68],\n",
       "         [ 70,  32,  46],\n",
       "         [ 51,  52,  57]],\n",
       "\n",
       "        ...,\n",
       "\n",
       "        [[ 20,  23,  29],\n",
       "         [ 23,  24,  30],\n",
       "         [ 22,  23,  29],\n",
       "         ...,\n",
       "         [ 23,  24,  33],\n",
       "         [ 33,  31,  42],\n",
       "         [ 58,  55,  61]],\n",
       "\n",
       "        [[ 23,  26,  29],\n",
       "         [ 26,  27,  31],\n",
       "         [ 27,  26,  31],\n",
       "         ...,\n",
       "         [ 23,  24,  32],\n",
       "         [ 31,  31,  41],\n",
       "         [ 55,  52,  57]],\n",
       "\n",
       "        [[ 26,  28,  30],\n",
       "         [ 29,  28,  31],\n",
       "         [ 37,  32,  34],\n",
       "         ...,\n",
       "         [ 24,  24,  32],\n",
       "         [ 34,  33,  41],\n",
       "         [ 54,  50,  56]]]], dtype=uint8)"
      ]
     },
     "execution_count": 158,
     "metadata": {},
     "output_type": "execute_result"
    }
   ],
   "source": [
    "X_train"
   ]
  },
  {
   "cell_type": "code",
   "execution_count": 159,
   "metadata": {},
   "outputs": [
    {
     "data": {
      "text/plain": [
       "array([[[[255, 246, 222],\n",
       "         [255, 252, 225],\n",
       "         [254, 241, 214],\n",
       "         ...,\n",
       "         [253, 255, 255],\n",
       "         [255, 255, 255],\n",
       "         [255, 255, 255]],\n",
       "\n",
       "        [[198, 188, 174],\n",
       "         [165, 160, 152],\n",
       "         [130, 124, 116],\n",
       "         ...,\n",
       "         [220, 239, 248],\n",
       "         [255, 255, 255],\n",
       "         [255, 255, 255]],\n",
       "\n",
       "        [[159, 140, 125],\n",
       "         [ 87,  89,  88],\n",
       "         [ 84,  82,  87],\n",
       "         ...,\n",
       "         [202, 226, 242],\n",
       "         [255, 255, 255],\n",
       "         [255, 255, 255]],\n",
       "\n",
       "        ...,\n",
       "\n",
       "        [[120, 114, 115],\n",
       "         [113, 114, 121],\n",
       "         [112, 113, 118],\n",
       "         ...,\n",
       "         [255, 255, 255],\n",
       "         [255, 255, 255],\n",
       "         [255, 255, 255]],\n",
       "\n",
       "        [[119, 119, 125],\n",
       "         [122, 123, 130],\n",
       "         [118, 117, 121],\n",
       "         ...,\n",
       "         [249, 250, 249],\n",
       "         [244, 244, 243],\n",
       "         [235, 234, 234]],\n",
       "\n",
       "        [[114, 114, 120],\n",
       "         [114, 113, 115],\n",
       "         [112, 111, 116],\n",
       "         ...,\n",
       "         [ 76,  76,  75],\n",
       "         [ 59,  58,  58],\n",
       "         [ 46,  44,  46]]],\n",
       "\n",
       "\n",
       "       [[[ 66,  60,  48],\n",
       "         [ 71,  62,  50],\n",
       "         [ 73,  61,  46],\n",
       "         ...,\n",
       "         [103,  85,  77],\n",
       "         [132, 117,  89],\n",
       "         [181, 147, 114]],\n",
       "\n",
       "        [[ 77,  72,  61],\n",
       "         [ 87,  74,  57],\n",
       "         [ 89,  66,  50],\n",
       "         ...,\n",
       "         [ 92,  83,  73],\n",
       "         [126, 119,  89],\n",
       "         [182, 148, 126]],\n",
       "\n",
       "        [[ 60,  61,  53],\n",
       "         [ 71,  58,  46],\n",
       "         [ 79,  63,  52],\n",
       "         ...,\n",
       "         [ 87,  80,  68],\n",
       "         [124, 110,  86],\n",
       "         [204, 156, 146]],\n",
       "\n",
       "        ...,\n",
       "\n",
       "        [[255, 255, 131],\n",
       "         [255, 255, 127],\n",
       "         [255, 255, 117],\n",
       "         ...,\n",
       "         [216, 215, 212],\n",
       "         [255, 249, 232],\n",
       "         [251, 210, 180]],\n",
       "\n",
       "        [[255, 255, 124],\n",
       "         [255, 255, 133],\n",
       "         [255, 255, 108],\n",
       "         ...,\n",
       "         [207, 204, 176],\n",
       "         [239, 221, 220],\n",
       "         [216, 166, 179]],\n",
       "\n",
       "        [[255, 255, 137],\n",
       "         [255, 255, 132],\n",
       "         [254, 253,  95],\n",
       "         ...,\n",
       "         [219, 216, 189],\n",
       "         [238, 228, 238],\n",
       "         [234, 207, 216]]],\n",
       "\n",
       "\n",
       "       [[[128, 144, 176],\n",
       "         [128, 145, 173],\n",
       "         [126, 146, 175],\n",
       "         ...,\n",
       "         [ 25,  24,  28],\n",
       "         [ 25,  24,  27],\n",
       "         [ 26,  26,  29]],\n",
       "\n",
       "        [[128, 145, 173],\n",
       "         [125, 144, 171],\n",
       "         [123, 142, 173],\n",
       "         ...,\n",
       "         [ 24,  24,  27],\n",
       "         [ 23,  23,  27],\n",
       "         [ 25,  24,  27]],\n",
       "\n",
       "        [[125, 144, 172],\n",
       "         [124, 142, 171],\n",
       "         [125, 143, 172],\n",
       "         ...,\n",
       "         [ 24,  24,  27],\n",
       "         [ 24,  23,  26],\n",
       "         [ 25,  23,  25]],\n",
       "\n",
       "        ...,\n",
       "\n",
       "        [[ 42,  44,  53],\n",
       "         [ 37,  40,  46],\n",
       "         [ 36,  38,  42],\n",
       "         ...,\n",
       "         [ 19,  19,  22],\n",
       "         [ 18,  19,  20],\n",
       "         [ 18,  18,  21]],\n",
       "\n",
       "        [[ 33,  33,  40],\n",
       "         [ 31,  32,  38],\n",
       "         [ 29,  30,  34],\n",
       "         ...,\n",
       "         [ 19,  19,  22],\n",
       "         [ 18,  18,  21],\n",
       "         [ 19,  18,  21]],\n",
       "\n",
       "        [[ 33,  34,  42],\n",
       "         [ 33,  35,  42],\n",
       "         [ 33,  33,  39],\n",
       "         ...,\n",
       "         [ 19,  19,  22],\n",
       "         [ 19,  18,  21],\n",
       "         [ 19,  18,  20]]],\n",
       "\n",
       "\n",
       "       ...,\n",
       "\n",
       "\n",
       "       [[[ 28,  28,  28],\n",
       "         [ 27,  27,  26],\n",
       "         [ 26,  26,  26],\n",
       "         ...,\n",
       "         [179, 182, 183],\n",
       "         [195, 207, 209],\n",
       "         [219, 231, 233]],\n",
       "\n",
       "        [[ 28,  29,  29],\n",
       "         [ 26,  27,  25],\n",
       "         [ 26,  26,  26],\n",
       "         ...,\n",
       "         [181, 186, 185],\n",
       "         [197, 206, 204],\n",
       "         [223, 232, 232]],\n",
       "\n",
       "        [[ 28,  29,  28],\n",
       "         [ 27,  27,  26],\n",
       "         [ 30,  29,  26],\n",
       "         ...,\n",
       "         [171, 186, 191],\n",
       "         [217, 224, 223],\n",
       "         [241, 240, 239]],\n",
       "\n",
       "        ...,\n",
       "\n",
       "        [[ 26,  25,  22],\n",
       "         [ 24,  24,  22],\n",
       "         [ 27,  24,  23],\n",
       "         ...,\n",
       "         [ 24,  27,  31],\n",
       "         [ 25,  27,  30],\n",
       "         [ 24,  26,  30]],\n",
       "\n",
       "        [[ 26,  25,  23],\n",
       "         [ 25,  25,  23],\n",
       "         [ 26,  24,  22],\n",
       "         ...,\n",
       "         [ 25,  27,  31],\n",
       "         [ 26,  28,  32],\n",
       "         [ 27,  29,  34]],\n",
       "\n",
       "        [[ 26,  25,  22],\n",
       "         [ 28,  27,  24],\n",
       "         [ 27,  26,  24],\n",
       "         ...,\n",
       "         [ 29,  30,  33],\n",
       "         [ 30,  32,  35],\n",
       "         [ 30,  33,  37]]],\n",
       "\n",
       "\n",
       "       [[[ 45,  48,  45],\n",
       "         [ 44,  46,  43],\n",
       "         [ 46,  47,  45],\n",
       "         ...,\n",
       "         [ 39,  39,  42],\n",
       "         [ 48,  46,  48],\n",
       "         [ 52,  49,  51]],\n",
       "\n",
       "        [[ 60,  54,  52],\n",
       "         [ 57,  61,  58],\n",
       "         [ 58,  62,  60],\n",
       "         ...,\n",
       "         [ 34,  34,  38],\n",
       "         [ 38,  36,  38],\n",
       "         [ 42,  40,  42]],\n",
       "\n",
       "        [[ 71,  62,  60],\n",
       "         [ 63,  66,  63],\n",
       "         [ 61,  65,  64],\n",
       "         ...,\n",
       "         [ 36,  34,  38],\n",
       "         [ 36,  36,  38],\n",
       "         [ 40,  40,  43]],\n",
       "\n",
       "        ...,\n",
       "\n",
       "        [[ 48,  46,  42],\n",
       "         [ 51,  50,  44],\n",
       "         [ 54,  52,  47],\n",
       "         ...,\n",
       "         [ 48,  48,  49],\n",
       "         [ 45,  45,  48],\n",
       "         [ 45,  44,  46]],\n",
       "\n",
       "        [[ 47,  48,  44],\n",
       "         [ 48,  49,  45],\n",
       "         [ 51,  51,  47],\n",
       "         ...,\n",
       "         [ 46,  46,  49],\n",
       "         [ 44,  42,  44],\n",
       "         [ 45,  43,  46]],\n",
       "\n",
       "        [[ 47,  49,  43],\n",
       "         [ 48,  50,  44],\n",
       "         [ 49,  49,  45],\n",
       "         ...,\n",
       "         [ 46,  46,  48],\n",
       "         [ 47,  46,  49],\n",
       "         [ 46,  44,  49]]],\n",
       "\n",
       "\n",
       "       [[[ 10,   9,  11],\n",
       "         [ 10,   9,  12],\n",
       "         [ 11,  10,  13],\n",
       "         ...,\n",
       "         [ 10,   9,  12],\n",
       "         [ 10,   9,  11],\n",
       "         [ 10,   9,  11]],\n",
       "\n",
       "        [[ 10,   9,  12],\n",
       "         [ 10,   9,  12],\n",
       "         [ 11,  10,  13],\n",
       "         ...,\n",
       "         [ 10,   9,  12],\n",
       "         [ 10,   9,  11],\n",
       "         [ 10,   9,  11]],\n",
       "\n",
       "        [[ 10,   9,  12],\n",
       "         [ 12,  11,  14],\n",
       "         [ 11,  10,  13],\n",
       "         ...,\n",
       "         [ 10,   9,  12],\n",
       "         [ 10,   9,  12],\n",
       "         [ 10,   9,  12]],\n",
       "\n",
       "        ...,\n",
       "\n",
       "        [[ 10,   9,  13],\n",
       "         [  9,   8,  11],\n",
       "         [ 10,   9,  12],\n",
       "         ...,\n",
       "         [ 10,   9,  11],\n",
       "         [ 10,   9,  10],\n",
       "         [ 10,   9,  10]],\n",
       "\n",
       "        [[  9,   8,  11],\n",
       "         [ 10,   9,  11],\n",
       "         [ 10,   8,  11],\n",
       "         ...,\n",
       "         [  9,   9,  12],\n",
       "         [ 10,   9,  11],\n",
       "         [ 11,  10,  12]],\n",
       "\n",
       "        [[  9,   8,  10],\n",
       "         [  9,   8,  10],\n",
       "         [  9,   8,  10],\n",
       "         ...,\n",
       "         [  8,   8,  12],\n",
       "         [  9,   8,  12],\n",
       "         [  9,   8,  12]]]], dtype=uint8)"
      ]
     },
     "execution_count": 159,
     "metadata": {},
     "output_type": "execute_result"
    }
   ],
   "source": [
    "X_test"
   ]
  },
  {
   "cell_type": "code",
   "execution_count": 160,
   "metadata": {},
   "outputs": [
    {
     "data": {
      "text/plain": [
       "array([ 5,  4, 35, ..., 26, 13,  2])"
      ]
     },
     "execution_count": 160,
     "metadata": {},
     "output_type": "execute_result"
    }
   ],
   "source": [
    "y_train"
   ]
  },
  {
   "cell_type": "code",
   "execution_count": 161,
   "metadata": {},
   "outputs": [
    {
     "data": {
      "text/plain": [
       "array([12, 13, 31, ..., 26,  7,  4])"
      ]
     },
     "execution_count": 161,
     "metadata": {},
     "output_type": "execute_result"
    }
   ],
   "source": [
    "y_test"
   ]
  },
  {
   "cell_type": "markdown",
   "metadata": {},
   "source": [
    "# Convert labels to onehot encoding"
   ]
  },
  {
   "cell_type": "code",
   "execution_count": 162,
   "metadata": {},
   "outputs": [],
   "source": [
    "# Function to_categorical() is used in keras for one hot-encoding(dummies)\n",
    "y_train = to_categorical(y_train, 43)\n",
    "y_test = to_categorical(y_test, 43)"
   ]
  },
  {
   "cell_type": "markdown",
   "metadata": {},
   "source": [
    "## Model building"
   ]
  },
  {
   "cell_type": "code",
   "execution_count": 163,
   "metadata": {},
   "outputs": [],
   "source": [
    "model = Sequential()\n",
    "model.add(Conv2D(filters=32, kernel_size=(5,5), activation='relu', input_shape=X_train.shape[1:]))\n",
    "model.add(Conv2D(filters=32, kernel_size=(5,5), activation='relu'))\n",
    "model.add(MaxPool2D(pool_size=(2, 2)))\n",
    "model.add(Dropout(rate=0.25))\n",
    "model.add(Conv2D(filters=64, kernel_size=(3, 3), activation='relu'))\n",
    "model.add(Conv2D(filters=64, kernel_size=(3, 3), activation='relu'))\n",
    "model.add(MaxPool2D(pool_size=(2, 2)))\n",
    "model.add(Dropout(rate=0.25))\n",
    "model.add(Flatten())\n",
    "model.add(Dense(256, activation='relu'))\n",
    "model.add(Dropout(rate=0.5))\n",
    "# We have 43 classes that's why we have defined 43 in the dense\n",
    "#The output must be from 0-42 classes present in the dataset.\n",
    "model.add(Dense(43, activation='softmax'))\n",
    "                               #softmax is used in case of image classification problems.\n"
   ]
  },
  {
   "cell_type": "code",
   "execution_count": 192,
   "metadata": {},
   "outputs": [
    {
     "data": {
      "text/plain": [
       "[<tensorflow.python.keras.layers.convolutional.Conv2D at 0x2141cef1250>,\n",
       " <tensorflow.python.keras.layers.convolutional.Conv2D at 0x2140c08d430>,\n",
       " <tensorflow.python.keras.layers.pooling.MaxPooling2D at 0x2141cef1160>,\n",
       " <tensorflow.python.keras.layers.core.Dropout at 0x214497db070>,\n",
       " <tensorflow.python.keras.layers.convolutional.Conv2D at 0x214497c6a90>,\n",
       " <tensorflow.python.keras.layers.convolutional.Conv2D at 0x2141cef1310>,\n",
       " <tensorflow.python.keras.layers.pooling.MaxPooling2D at 0x214497c6c40>,\n",
       " <tensorflow.python.keras.layers.core.Dropout at 0x214497d5100>,\n",
       " <tensorflow.python.keras.layers.core.Flatten at 0x2140bda4c40>,\n",
       " <tensorflow.python.keras.layers.core.Dense at 0x2140bda4dc0>,\n",
       " <tensorflow.python.keras.layers.core.Dropout at 0x2140bae65b0>,\n",
       " <tensorflow.python.keras.layers.core.Dense at 0x2140c616460>]"
      ]
     },
     "execution_count": 192,
     "metadata": {},
     "output_type": "execute_result"
    }
   ],
   "source": [
    "model.layers"
   ]
  },
  {
   "cell_type": "code",
   "execution_count": 193,
   "metadata": {},
   "outputs": [
    {
     "data": {
      "text/plain": [
       "(None, 30, 30, 3)"
      ]
     },
     "execution_count": 193,
     "metadata": {},
     "output_type": "execute_result"
    }
   ],
   "source": [
    "model.input_shape"
   ]
  },
  {
   "cell_type": "code",
   "execution_count": 194,
   "metadata": {},
   "outputs": [
    {
     "data": {
      "text/plain": [
       "(None, 43)"
      ]
     },
     "execution_count": 194,
     "metadata": {},
     "output_type": "execute_result"
    }
   ],
   "source": [
    "model.output_shape"
   ]
  },
  {
   "cell_type": "code",
   "execution_count": 195,
   "metadata": {},
   "outputs": [
    {
     "name": "stdout",
     "output_type": "stream",
     "text": [
      "Model: \"sequential_5\"\n",
      "_________________________________________________________________\n",
      "Layer (type)                 Output Shape              Param #   \n",
      "=================================================================\n",
      "conv2d_20 (Conv2D)           (None, 26, 26, 32)        2432      \n",
      "_________________________________________________________________\n",
      "conv2d_21 (Conv2D)           (None, 22, 22, 32)        25632     \n",
      "_________________________________________________________________\n",
      "max_pooling2d_10 (MaxPooling (None, 11, 11, 32)        0         \n",
      "_________________________________________________________________\n",
      "dropout_15 (Dropout)         (None, 11, 11, 32)        0         \n",
      "_________________________________________________________________\n",
      "conv2d_22 (Conv2D)           (None, 9, 9, 64)          18496     \n",
      "_________________________________________________________________\n",
      "conv2d_23 (Conv2D)           (None, 7, 7, 64)          36928     \n",
      "_________________________________________________________________\n",
      "max_pooling2d_11 (MaxPooling (None, 3, 3, 64)          0         \n",
      "_________________________________________________________________\n",
      "dropout_16 (Dropout)         (None, 3, 3, 64)          0         \n",
      "_________________________________________________________________\n",
      "flatten_5 (Flatten)          (None, 576)               0         \n",
      "_________________________________________________________________\n",
      "dense_10 (Dense)             (None, 256)               147712    \n",
      "_________________________________________________________________\n",
      "dropout_17 (Dropout)         (None, 256)               0         \n",
      "_________________________________________________________________\n",
      "dense_11 (Dense)             (None, 43)                11051     \n",
      "=================================================================\n",
      "Total params: 242,251\n",
      "Trainable params: 242,251\n",
      "Non-trainable params: 0\n",
      "_________________________________________________________________\n"
     ]
    }
   ],
   "source": [
    "model.summary()"
   ]
  },
  {
   "cell_type": "raw",
   "metadata": {},
   "source": [
    "We can hit and trial with parameters like:--\n",
    "filters,\n",
    "kernel_size,\n",
    "activation,\n",
    "dropout\n",
    "# We have 43 classes that's why we have defined 43 in the dense\n",
    "#The output must be from 0-42 classes present in the dataset.\n",
    "#softmax is used in case of image classification problems.\n"
   ]
  },
  {
   "cell_type": "markdown",
   "metadata": {},
   "source": [
    "# Model Compilation"
   ]
  },
  {
   "cell_type": "code",
   "execution_count": 164,
   "metadata": {},
   "outputs": [],
   "source": [
    "\n",
    "model.compile(loss='categorical_crossentropy', optimizer='adam', metrics=['accuracy'])"
   ]
  },
  {
   "cell_type": "markdown",
   "metadata": {},
   "source": [
    "# Fitting the training data--> X_train, y_train  with epochs=20 and validation(output) validation_data=(X_test, y_test)"
   ]
  },
  {
   "cell_type": "code",
   "execution_count": 165,
   "metadata": {},
   "outputs": [
    {
     "name": "stdout",
     "output_type": "stream",
     "text": [
      "Epoch 1/20\n",
      "981/981 [==============================] - 126s 128ms/step - loss: 2.1987 - accuracy: 0.4379 - val_loss: 0.8810 - val_accuracy: 0.7678\n",
      "Epoch 2/20\n",
      "981/981 [==============================] - 126s 128ms/step - loss: 0.8337 - accuracy: 0.7546 - val_loss: 0.2558 - val_accuracy: 0.9311\n",
      "Epoch 3/20\n",
      "981/981 [==============================] - 124s 127ms/step - loss: 0.4593 - accuracy: 0.8654 - val_loss: 0.1633 - val_accuracy: 0.9589\n",
      "Epoch 4/20\n",
      "981/981 [==============================] - 124s 126ms/step - loss: 0.3434 - accuracy: 0.9016 - val_loss: 0.1154 - val_accuracy: 0.9686\n",
      "Epoch 5/20\n",
      "981/981 [==============================] - 124s 126ms/step - loss: 0.2760 - accuracy: 0.9199 - val_loss: 0.0805 - val_accuracy: 0.9784\n",
      "Epoch 6/20\n",
      "981/981 [==============================] - 124s 127ms/step - loss: 0.2628 - accuracy: 0.9257 - val_loss: 0.1015 - val_accuracy: 0.9711\n",
      "Epoch 7/20\n",
      "981/981 [==============================] - 124s 126ms/step - loss: 0.2259 - accuracy: 0.9373 - val_loss: 0.0706 - val_accuracy: 0.9800\n",
      "Epoch 8/20\n",
      "981/981 [==============================] - 125s 127ms/step - loss: 0.1981 - accuracy: 0.9456 - val_loss: 0.0786 - val_accuracy: 0.9770\n",
      "Epoch 9/20\n",
      "981/981 [==============================] - 124s 127ms/step - loss: 0.2090 - accuracy: 0.9421 - val_loss: 0.0805 - val_accuracy: 0.9760\n",
      "Epoch 10/20\n",
      "981/981 [==============================] - 124s 127ms/step - loss: 0.2178 - accuracy: 0.9429 - val_loss: 0.0718 - val_accuracy: 0.9800\n",
      "Epoch 11/20\n",
      "981/981 [==============================] - 124s 127ms/step - loss: 0.1975 - accuracy: 0.9476 - val_loss: 0.0745 - val_accuracy: 0.9796\n",
      "Epoch 12/20\n",
      "981/981 [==============================] - 124s 126ms/step - loss: 0.1860 - accuracy: 0.9506 - val_loss: 0.0424 - val_accuracy: 0.9889\n",
      "Epoch 13/20\n",
      "981/981 [==============================] - 125s 127ms/step - loss: 0.2181 - accuracy: 0.9433 - val_loss: 0.0759 - val_accuracy: 0.9821\n",
      "Epoch 14/20\n",
      "981/981 [==============================] - 124s 127ms/step - loss: 0.1990 - accuracy: 0.9484 - val_loss: 0.0572 - val_accuracy: 0.9841\n",
      "Epoch 15/20\n",
      "981/981 [==============================] - 124s 127ms/step - loss: 0.1773 - accuracy: 0.9549 - val_loss: 0.0628 - val_accuracy: 0.9818\n",
      "Epoch 16/20\n",
      "981/981 [==============================] - 124s 127ms/step - loss: 0.2093 - accuracy: 0.9487 - val_loss: 0.1158 - val_accuracy: 0.9705\n",
      "Epoch 17/20\n",
      "981/981 [==============================] - 124s 127ms/step - loss: 0.1998 - accuracy: 0.9490 - val_loss: 0.0514 - val_accuracy: 0.9883\n",
      "Epoch 18/20\n",
      "981/981 [==============================] - 125s 127ms/step - loss: 0.1762 - accuracy: 0.9546 - val_loss: 0.0604 - val_accuracy: 0.9850\n",
      "Epoch 19/20\n",
      "981/981 [==============================] - 125s 127ms/step - loss: 0.2011 - accuracy: 0.9521 - val_loss: 0.0905 - val_accuracy: 0.9749\n",
      "Epoch 20/20\n",
      "981/981 [==============================] - 125s 127ms/step - loss: 0.2329 - accuracy: 0.9460 - val_loss: 0.0527 - val_accuracy: 0.9865\n"
     ]
    }
   ],
   "source": [
    "epochs = 20\n",
    "history = model.fit(X_train, y_train, batch_size=32, epochs=epochs, validation_data=(X_test, y_test))"
   ]
  },
  {
   "cell_type": "markdown",
   "metadata": {},
   "source": [
    "# MAX TRAINING accuracy at epochs=15 --->94.49%"
   ]
  },
  {
   "cell_type": "code",
   "execution_count": 166,
   "metadata": {},
   "outputs": [
    {
     "data": {
      "image/png": "[encoded data removed]",
      "text/plain": [
       "<Figure size 432x288 with 1 Axes>"
      ]
     },
     "metadata": {
      "needs_background": "light"
     },
     "output_type": "display_data"
    }
   ],
   "source": [
    "# accuracy \n",
    "plt.figure(0)\n",
    "plt.plot(history.history['accuracy'], label='training accuracy')\n",
    "plt.plot(history.history['val_accuracy'], label='val accuracy')\n",
    "plt.title('Accuracy')\n",
    "plt.xlabel('epochs')\n",
    "plt.ylabel('accuracy')\n",
    "plt.legend()\n",
    "plt.show()"
   ]
  },
  {
   "cell_type": "code",
   "execution_count": 167,
   "metadata": {},
   "outputs": [
    {
     "data": {
      "image/png": "[encoded data removed]",
      "text/plain": [
       "<Figure size 432x288 with 1 Axes>"
      ]
     },
     "metadata": {
      "needs_background": "light"
     },
     "output_type": "display_data"
    }
   ],
   "source": [
    "# Loss\n",
    "plt.plot(history.history['loss'], label='training loss')\n",
    "plt.plot(history.history['val_loss'], label='val loss')\n",
    "plt.title('Loss')\n",
    "plt.xlabel('epochs')\n",
    "plt.ylabel('loss')\n",
    "plt.legend()\n",
    "plt.show()"
   ]
  },
  {
   "cell_type": "markdown",
   "metadata": {},
   "source": [
    "## Testing on test data(Test.csv) "
   ]
  },
  {
   "cell_type": "code",
   "execution_count": 168,
   "metadata": {},
   "outputs": [
    {
     "data": {
      "text/plain": [
       "array([[0., 0., 0., ..., 0., 0., 0.],\n",
       "       [0., 0., 0., ..., 0., 0., 0.],\n",
       "       [0., 0., 0., ..., 0., 0., 0.],\n",
       "       ...,\n",
       "       [0., 0., 0., ..., 0., 0., 0.],\n",
       "       [0., 0., 0., ..., 0., 0., 0.],\n",
       "       [0., 0., 0., ..., 0., 0., 0.]], dtype=float32)"
      ]
     },
     "execution_count": 168,
     "metadata": {},
     "output_type": "execute_result"
    }
   ],
   "source": [
    "y_test"
   ]
  },
  {
   "cell_type": "code",
   "execution_count": 173,
   "metadata": {},
   "outputs": [],
   "source": [
    "def testing(testcsv):\n",
    "    y_test = pd.read_csv(testcsv)\n",
    "    \n",
    "    label = y_test[\"ClassId\"].values\n",
    "    imgpath = y_test[\"Path\"].values\n",
    "    \n",
    "#Same as done for training data\n",
    "\n",
    "    data=[]\n",
    "    \n",
    "    for img in imgpath:\n",
    "        image = Image.open(img)\n",
    "        image = image.resize((30,30))\n",
    "        \n",
    "        data.append(np.array(image))\n",
    "        \n",
    "    X_test=np.array(data)\n",
    "    return X_test,label"
   ]
  },
  {
   "cell_type": "code",
   "execution_count": 174,
   "metadata": {},
   "outputs": [],
   "source": [
    "X_test, label = testing('Test.csv')"
   ]
  },
  {
   "cell_type": "code",
   "execution_count": 176,
   "metadata": {},
   "outputs": [
    {
     "data": {
      "text/plain": [
       "array([16,  1, 38, ...,  1,  7, 10], dtype=int64)"
      ]
     },
     "execution_count": 176,
     "metadata": {},
     "output_type": "execute_result"
    }
   ],
   "source": [
    "Y_pred = model.predict_classes(X_test)\n",
    "Y_pred"
   ]
  },
  {
   "cell_type": "markdown",
   "metadata": {},
   "source": [
    "## Accuracy with the test data"
   ]
  },
  {
   "cell_type": "code",
   "execution_count": 177,
   "metadata": {},
   "outputs": [
    {
     "name": "stdout",
     "output_type": "stream",
     "text": [
      "0.9454473475851148\n"
     ]
    }
   ],
   "source": [
    "from sklearn.metrics import accuracy_score\n",
    "\n",
    "print(accuracy_score(label, Y_pred))"
   ]
  },
  {
   "cell_type": "markdown",
   "metadata": {},
   "source": [
    "## Save the model"
   ]
  },
  {
   "cell_type": "code",
   "execution_count": 181,
   "metadata": {},
   "outputs": [],
   "source": [
    "model.save(\"output_trafficsignals.h5\")"
   ]
  },
  {
   "cell_type": "markdown",
   "metadata": {},
   "source": [
    "## Load the Model"
   ]
  },
  {
   "cell_type": "code",
   "execution_count": 182,
   "metadata": {},
   "outputs": [],
   "source": [
    "from tensorflow.keras.models import load_model\n",
    "model = load_model('output_trafficsignals.h5')"
   ]
  },
  {
   "cell_type": "markdown",
   "metadata": {},
   "source": [
    "# Visualization"
   ]
  },
  {
   "cell_type": "code",
   "execution_count": 183,
   "metadata": {},
   "outputs": [],
   "source": [
    "# Classes of trafic signs,making a dictionary\n",
    "classes = { 0:'Speed limit (20km/h)',\n",
    "            1:'Speed limit (30km/h)', \n",
    "            2:'Speed limit (50km/h)', \n",
    "            3:'Speed limit (60km/h)', \n",
    "            4:'Speed limit (70km/h)', \n",
    "            5:'Speed limit (80km/h)', \n",
    "            6:'End of speed limit (80km/h)', \n",
    "            7:'Speed limit (100km/h)', \n",
    "            8:'Speed limit (120km/h)', \n",
    "            9:'No passing', \n",
    "            10:'No passing veh over 3.5 tons', \n",
    "            11:'Right-of-way at intersection', \n",
    "            12:'Priority road', \n",
    "            13:'Yield', \n",
    "            14:'Stop', \n",
    "            15:'No vehicles', \n",
    "            16:'Veh > 3.5 tons prohibited', \n",
    "            17:'No entry', \n",
    "            18:'General caution', \n",
    "            19:'Dangerous curve left', \n",
    "            20:'Dangerous curve right', \n",
    "            21:'Double curve', \n",
    "            22:'Bumpy road', \n",
    "            23:'Slippery road', \n",
    "            24:'Road narrows on the right', \n",
    "            25:'Road work', \n",
    "            26:'Traffic signals', \n",
    "            27:'Pedestrians', \n",
    "            28:'Children crossing', \n",
    "            29:'Bicycles crossing', \n",
    "            30:'Beware of ice/snow',\n",
    "            31:'Wild animals crossing', \n",
    "            32:'End speed + passing limits', \n",
    "            33:'Turn right ahead', \n",
    "            34:'Turn left ahead', \n",
    "            35:'Ahead only', \n",
    "            36:'Go straight or right', \n",
    "            37:'Go straight or left', \n",
    "            38:'Keep right', \n",
    "            39:'Keep left', \n",
    "            40:'Roundabout mandatory', \n",
    "            41:'End of no passing', \n",
    "            42:'End no passing veh > 3.5 tons' }"
   ]
  },
  {
   "cell_type": "code",
   "execution_count": 184,
   "metadata": {},
   "outputs": [],
   "source": [
    "from PIL import Image\n",
    "import numpy as np\n",
    "import matplotlib.pyplot as plt\n",
    "def test_on_img(img):\n",
    "    data=[]\n",
    "    image = Image.open(img)\n",
    "    image = image.resize((30,30))\n",
    "    data.append(np.array(image))\n",
    "    X_test=np.array(data)\n",
    "    Y_pred = model.predict_classes(X_test)\n",
    "    return image,Y_pred"
   ]
  },
  {
   "cell_type": "code",
   "execution_count": 196,
   "metadata": {},
   "outputs": [
    {
     "name": "stdout",
     "output_type": "stream",
     "text": [
      "Predicted traffic sign is:  End speed + passing limits\n"
     ]
    },
    {
     "data": {
      "image/png": "[encoded data removed]",
      "text/plain": [
       "<Figure size 432x288 with 1 Axes>"
      ]
     },
     "metadata": {
      "needs_background": "light"
     },
     "output_type": "display_data"
    }
   ],
   "source": [
    "                  #Just change the 'number'.png to get the prections here directly.\n",
    "plot,prediction = test_on_img(r'Test\\00506.png')\n",
    "s = [str(i) for i in prediction] \n",
    "a = int(\"\".join(s)) \n",
    "print(\"Predicted traffic sign is: \", classes[a])\n",
    "plt.imshow(plot)\n",
    "plt.show()"
   ]
  },
  {
   "cell_type": "markdown",
   "metadata": {},
   "source": [
    "# Conclusion"
   ]
  },
  {
   "cell_type": "markdown",
   "metadata": {},
   "source": [
    "In this Deep Neural Network model we can classify traffic signs present in the image,into different categories.\n",
    "    \n",
    "With this model, \n",
    "We are to read and understand traffic signs which are a very important task for all autonomous vehicles."
   ]
  }
 ],
 "metadata": {
  "kernelspec": {
   "display_name": "Python 3",
   "language": "python",
   "name": "python3"
  },
  "language_info": {
   "codemirror_mode": {
    "name": "ipython",
    "version": 3
   },
   "file_extension": ".py",
   "mimetype": "text/x-python",
   "name": "python",
   "nbconvert_exporter": "python",
   "pygments_lexer": "ipython3",
   "version": "3.8.3"
  }
 },
 "nbformat": 4,
 "nbformat_minor": 4
}
